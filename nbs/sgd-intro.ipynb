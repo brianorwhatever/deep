{
 "cells": [
  {
   "cell_type": "markdown",
   "metadata": {
    "toc": "true"
   },
   "source": [
    "# Table of Contents\n",
    " <p>"
   ]
  },
  {
   "cell_type": "code",
   "execution_count": 1,
   "metadata": {
    "collapsed": true
   },
   "outputs": [],
   "source": [
    "%matplotlib inline\n",
    "import math,sys,os,numpy as np\n",
    "from numpy.random import random\n",
    "from matplotlib import pyplot as plt, rcParams, animation, rc\n",
    "from __future__ import print_function, division\n",
    "from ipywidgets import interact, interactive, fixed\n",
    "from ipywidgets.widgets import *\n",
    "rc('animation', html='html5')\n",
    "rcParams['figure.figsize'] = 3, 3\n",
    "%precision 4\n",
    "np.set_printoptions(precision=4, linewidth=100)"
   ]
  },
  {
   "cell_type": "code",
   "execution_count": 2,
   "metadata": {
    "collapsed": true
   },
   "outputs": [],
   "source": [
    "def lin(a,b,x): return a*x+b"
   ]
  },
  {
   "cell_type": "code",
   "execution_count": 3,
   "metadata": {
    "collapsed": true
   },
   "outputs": [],
   "source": [
    "a=3.\n",
    "b=8."
   ]
  },
  {
   "cell_type": "code",
   "execution_count": 4,
   "metadata": {
    "collapsed": true
   },
   "outputs": [],
   "source": [
    "n=30\n",
    "x = random(n)\n",
    "y = lin(a,b,x)"
   ]
  },
  {
   "cell_type": "code",
   "execution_count": 5,
   "metadata": {
    "collapsed": false
   },
   "outputs": [
    {
     "data": {
      "text/plain": [
       "array([ 0.0906,  0.3784,  0.202 ,  0.7092,  0.9617,  0.272 ,  0.4348,  0.2716,  0.3342,  0.9728,\n",
       "        0.3974,  0.8792,  0.2868,  0.3096,  0.6293,  0.8007,  0.4434,  0.1697,  0.7358,  0.9299,\n",
       "        0.827 ,  0.9351,  0.5746,  0.454 ,  0.3533,  0.7313,  0.2681,  0.7755,  0.3656,  0.1485])"
      ]
     },
     "execution_count": 5,
     "metadata": {},
     "output_type": "execute_result"
    }
   ],
   "source": [
    "x"
   ]
  },
  {
   "cell_type": "code",
   "execution_count": 6,
   "metadata": {
    "collapsed": false
   },
   "outputs": [
    {
     "data": {
      "text/plain": [
       "array([  8.2719,   9.1352,   8.6059,  10.1275,  10.8851,   8.8159,   9.3045,   8.8148,   9.0025,\n",
       "        10.9183,   9.1923,  10.6376,   8.8603,   8.9287,   9.888 ,  10.4022,   9.3301,   8.5092,\n",
       "        10.2074,  10.7898,  10.4811,  10.8054,   9.7239,   9.362 ,   9.0598,  10.1939,   8.8044,\n",
       "        10.3266,   9.0968,   8.4455])"
      ]
     },
     "execution_count": 6,
     "metadata": {},
     "output_type": "execute_result"
    }
   ],
   "source": [
    "y"
   ]
  },
  {
   "cell_type": "code",
   "execution_count": 7,
   "metadata": {
    "collapsed": false
   },
   "outputs": [
    {
     "data": {
      "text/plain": [
       "<matplotlib.collections.PathCollection at 0x7f747a8ca650>"
      ]
     },
     "execution_count": 7,
     "metadata": {},
     "output_type": "execute_result"
    },
    {
     "data": {
      "image/png": "[encoded data removed]",
      "text/plain": [
       "<matplotlib.figure.Figure at 0x7f74a0191810>"
      ]
     },
     "metadata": {},
     "output_type": "display_data"
    }
   ],
   "source": [
    "plt.scatter(x,y)"
   ]
  },
  {
   "cell_type": "code",
   "execution_count": 8,
   "metadata": {
    "collapsed": true
   },
   "outputs": [],
   "source": [
    "def sse(y,y_pred): return ((y-y_pred)**2).sum()\n",
    "def loss(y,a,b,x): return sse(y, lin(a,b,x))\n",
    "def avg_loss(y,a,b,x): return np.sqrt(loss(y,a,b,x)/n)"
   ]
  },
  {
   "cell_type": "code",
   "execution_count": 9,
   "metadata": {
    "collapsed": false
   },
   "outputs": [
    {
     "data": {
      "text/plain": [
       "9.1505"
      ]
     },
     "execution_count": 9,
     "metadata": {},
     "output_type": "execute_result"
    }
   ],
   "source": [
    "a_guess=-1.\n",
    "b_guess=1.\n",
    "avg_loss(y, a_guess, b_guess, x)"
   ]
  },
  {
   "cell_type": "code",
   "execution_count": 10,
   "metadata": {
    "collapsed": true
   },
   "outputs": [],
   "source": [
    "lr=0.01\n",
    "# d[(y-(a*x+b))**2,b] = 2 (b + a x - y)      = 2 (y_pred - y)\n",
    "# d[(y-(a*x+b))**2,a] = 2 x (b + a x - y)    = x * dy/db"
   ]
  },
  {
   "cell_type": "code",
   "execution_count": 11,
   "metadata": {
    "collapsed": false
   },
   "outputs": [],
   "source": [
    "def upd():\n",
    "    global a_guess, b_guess\n",
    "    y_pred = lin(a_guess, b_guess, x)\n",
    "    dydb = 2 * (y_pred - y)\n",
    "    dyda = x*dydb\n",
    "    a_guess -= lr*dyda.mean()\n",
    "    b_guess -= lr*dydb.mean()"
   ]
  },
  {
   "cell_type": "code",
   "execution_count": 12,
   "metadata": {
    "collapsed": false
   },
   "outputs": [
    {
     "data": {
      "text/html": [
       "<video width=\"500.0\" height=\"400.0\" controls autoplay loop>\n",
       "  <source type=\"video/mp4\" src=\"data:video/mp4;base64,AAAAHGZ0eXBNNFYgAAACAGlzb21pc28yYXZjMQAAAAhmcmVlAABT6G1kYXQAAAKuBgX//6rcRem9\n",
       "5tlIt5Ys2CDZI+7veDI2NCAtIGNvcmUgMTQ4IHIyNjQzIDVjNjU3MDQgLSBILjI2NC9NUEVHLTQg\n",
       "QVZDIGNvZGVjIC0gQ29weWxlZnQgMjAwMy0yMDE1IC0gaHR0cDovL3d3dy52aWRlb2xhbi5vcmcv\n",
       "eDI2NC5odG1sIC0gb3B0aW9uczogY2FiYWM9MSByZWY9MyBkZWJsb2NrPTE6MDowIGFuYWx5c2U9\n",
       "MHgzOjB4MTEzIG1lPWhleCBzdWJtZT03IHBzeT0xIHBzeV9yZD0xLjAwOjAuMDAgbWl4ZWRfcmVm\n",
       "PTEgbWVfcmFuZ2U9MTYgY2hyb21hX21lPTEgdHJlbGxpcz0xIDh4OGRjdD0xIGNxbT0wIGRlYWR6\n",
       "b25lPTIxLDExIGZhc3RfcHNraXA9MSBjaHJvbWFfcXBfb2Zmc2V0PS0yIHRocmVhZHM9NiBsb29r\n",
       "YWhlYWRfdGhyZWFkcz0xIHNsaWNlZF90aHJlYWRzPTAgbnI9MCBkZWNpbWF0ZT0xIGludGVybGFj\n",
       "ZWQ9MCBibHVyYXlfY29tcGF0PTAgY29uc3RyYWluZWRfaW50cmE9MCBiZnJhbWVzPTMgYl9weXJh\n",
       "bWlkPTIgYl9hZGFwdD0xIGJfYmlhcz0wIGRpcmVjdD0xIHdlaWdodGI9MSBvcGVuX2dvcD0wIHdl\n",
       "aWdodHA9MiBrZXlpbnQ9MjUwIGtleWludF9taW49MTAgc2NlbmVjdXQ9NDAgaW50cmFfcmVmcmVz\n",
       "aD0wIHJjX2xvb2thaGVhZD00MCByYz1jcmYgbWJ0cmVlPTEgY3JmPTIzLjAgcWNvbXA9MC42MCBx\n",
       "cG1pbj0wIHFwbWF4PTY5IHFwc3RlcD00IGlwX3JhdGlvPTEuNDAgYXE9MToxLjAwAIAAABOCZYiE\n",
       "AD///vdonwKbWkN6gOSVxSXbT4H/q2dwfI/pAwAAAwAAAwAkAvzHv6EHQzQgAABRkkpUkmIiRmAh\n",
       "sP+ebxUt65SzxgV5BtAtfEw+/RTgAd48X43c8vDOKyJ16Rb4I57ikspKAdLwEk640y9hTBSnOt2G\n",
       "9BfCLxxHiE8R2vxbFfhlHsSYn/lgrj+csSHqPXWFIiuVSUakG23Sd4x/QuzaiGTNOsTcfHtp1c0F\n",
       "8d5p56QHO2NCvcPN3PdVxHR9zDztCTRMa1cvsz0Wia9wbxWyPEkl1uYb9aBB43hPouJ+f8RMP6um\n",
       "f0o5wMG73IE8znakG2R5y/6t1YxvKPyaHNAZYSqCGJi014nLz1/chjcp7H/KUay9z/UPhpfjrAvJ\n",
       "yVgG4F4UPlY4T5fGRWdnN65c9x7LyJEoSneX3LcaIQ27qJ/n3w//K/QWYnKgkwgV5qeTS99Ehhjy\n",
       "XYuyEC/v3VIq//kluFMfrJnKLDSZEOPHZmbGAZIrGbjat+UWueeDJMuyxxLvXwhOzrOUs9qYlMY9\n",
       "dr0NZYUcfP2rRV1u9s7401DehKiNxnzva4Hw0CMd6pah7fsf9CaAGjiy+GT3G9xSPtln9SRZXVL/\n",
       "4oFXEszHjRQrLrZ9hJKKL8/Z+59Un4bkDmXwZq/Olqf44EE4Qs6YNAjTjO00ptaCX/mFLOquJmfN\n",
       "C2y14FjB+Sv3XX6lN4pwD5C0L/TA9C0/pD2rs9fs3CdIqYS4pxBrZOM+KYqe5qiaVsgNLtMDnapu\n",
       "ADHpRMg2SAAwVb/wLv+z87A6cMvCB/7UTJf7slEKmPpl8EX4UBcmHAWfiHOPylI+vn8roqqWhooH\n",
       "iEN75qkjGPxNv3WpTZOVYILZRlHOGEEsTrKzuyvqF1OocJdT+zIuIZDHA3V+ertCoI6sA2V6lIht\n",
       "9qa5n9EmL80kq2uY5bkkd/0F2fTUWYNGhlGdi/45viYVlvfHk0Bz7yBSQNRGBlDl4YOWO3xm9jAc\n",
       "uDNvXz0BeywhBh8S+NiUpAiri8CCtrPogoYg3VL+OLydnQi59xtBVWMfTLc90VGJ23qwa6Ap0HSA\n",
       "y2dNurHM6c9Tt1DBB5KLAhjcWCggRWEcBolsQIjhXV+KfGuBd6Ripm3emfDY+FT8MLbBouSjYqBC\n",
       "PX9l2q7g4y/Qzj5UJ1npiOU2wsyHxor1AhvNWoX3slX5dsveZrk0nYymuOFkHmUBMuEv9wrUpfhy\n",
       "4U5OARoUCE56i8jXw2h6PjHNhSH5+Scb5IAg2MISGyqq+CwYH/C7AwnEJZmHVTvDJKVD72c8h5D/\n",
       "SvyUohFf08r9dAzEc99fCrFZoOOsLmmMudPmZtGA4tHtYUwEs1RpHUfMES93eBssOInQYoEQtg3B\n",
       "W9mvDCivhcqlK5kEpVU6gZIycp5bSrVFi6lBifpXqs7DbxARNi71KIf0V8CuirdX9OqI16GpQvWF\n",
       "uxt+Gf4DiWvWKiQ8YdawqO9IJikGMmkB/T9QYz0Z8AwR5L/EIFo2xP114sbSLKAfDxtjDALDZn+j\n",
       "/+NSiOQH6JpQEd7ccZTmeShvxSp1QGjOW0OtcqP0ywN8PwBbgVLsaFrYxzUJnkjJS0uZiZMXr4Fr\n",
       "R2t5MmUtTfo848o4Md1onBJSh1vQbqmmbDYeZNBw9f7++Q3sCFGeCuQvQZ8Dmnk2GIV//4mQlDdr\n",
       "uQKPzOeL9Zb5N1vK/nTDZ3owsENydBe6tE+e4V8plurGeJL22lgkvoDjUUSwRRxgn3EFHQAlHeE7\n",
       "AyrP2OrcnOL9XOFebB7JbxxciAq/8tI7AfDAx84ldsZxmBn3idAcbH90kJymAs4SAKrJSAXYpYRw\n",
       "R0T4ZrytdeEUI8L2EFiMmecpneaaJdK0lHzV/9vRtg3NNphxmQzY7Yyd4n4zm5/oFx+6fy6PW2M7\n",
       "uPoYtAwFHyuQUQjDu9ht8PiN1K/FQ3tmk4Qa0wJdT1SPoPNvB/55fFuQ7eOFBB3lXg0S2YjCxtGp\n",
       "YFLCa2vtTGDxo6/WsvQ6Rd/5Ds29pztlnaatIsvwgj+XMuYCII5+6mJOoESH+DvC8INmmuehq8gI\n",
       "f3VhoPU+gn4EhocZ4Y7H3PMPwWQITiiZ6h6HrNJw2vPcEdMadPS4M6f9//i50I5JBF/ttoe/L0W6\n",
       "98Twxfz03nPSQHu3hKzkZdR30koWkwPIjBVMXjKUjXDj4t7+Y0lAKJ6kyvD3/ibAvGF/RFbDt8Mc\n",
       "bLuRDy4q9j7F4ZRHCxuSuJOQQcalIRANdHEX552XxWI8FfsVmpI0T2WHnLcqD1HnmE/zqMBzYehG\n",
       "g/5I3HsFkqrw35FyG9b3oZVVAuD9HRgDouy+XJqMKtG5FR4qj1xj9C5Mdq/6IjRiYMdcs82v8k40\n",
       "mqeRRVcW3+oY4wOkg7gVOhM6DryICKLRoTGGPWLFkTI4eJmC25W8JYaw9uJSJps8dEX2DfsHsliu\n",
       "wzgw6c27O+usiqwdMw2eJQOtHilldqTeUP+M2swYpOIjYzqnjnbhRuZT8FLj/cZg9p1aP53Sr3RS\n",
       "cNbMO1we5hAN0DFCcAMwGJOJeZqyFmzdajJXA5pYWz7u0bolACkU796rphjwlukk3ycOJZ+SONeA\n",
       "E4/s5nbhk+MDHOR32sEIJHLXJkE0DlBrLcVBwzcJuouMGZHXRELOMNy/Rc4k/BraZ9lIPx9wWHcO\n",
       "p72HocTIzroejaNRYn2vgP0pMlUdTqAhvyjhNc8RAolRXpjQkAwx+Ri7mdqSVL7RdfWpajGZYa8o\n",
       "qqHe0kWBkqLtB149RRMURe7+k8YVgonh63+Zn4VOaWg6ZoZosaLlOtQmtEQ48tcFIIj09BvYfYZD\n",
       "aYbT8wCiWURhmONmjbIcAGGhWBprx+PfJp4yvCahLE9vAn8xkbJFLqMVMqjSFIoaM3XuYk2lrcFf\n",
       "3Ynjva7IkW2VTdRTc02Wb1qpj5bvtTy4fq3juSNf1mSaGrX7pBi2SS7dZ/O9+fZu2v4uYMvLRXhS\n",
       "8nK4PrdMVevIKFGrM507eiqjZXNXdbKrEGiJk3U4aDVOYQYKNJ7nadY4c5076mKNjF72LQTJTLLI\n",
       "zFQmSZnYdksE5xMKJgZI+omnZD7GAAu1pQ7FqXrJc1bEZqV465gX6G7Xi10i6k+bbmK8p8evg9ee\n",
       "sbYLkuZfzQe0ul24W+La6Slcp+17lmQ0Ug2XYcvE+AeO6gpNx0VUDzp8FfPfBO4MSe2KzyZLHS5a\n",
       "7d+QMGYMcqRDz4avMo9hMKDl/qbrLJXpEGD1OVhgB+GTqcbWQrSfBI6askvSR+ivh9VgwsMI3KR5\n",
       "sAnOtXFWiSgC7uouEBFQs35GX5nc9DRMvvNCaVl2Zo4ysO3In9Ge3POmQpVB0CHWabuXwUp+JE8F\n",
       "VWekAQ1L4oeX/Y7AOtVRM/fKOyekxxHT3JFZP7OfFBsYNea3CpKiMsftzaZkBQ8ze9jW/OhcudPC\n",
       "M71mt+qfcww6//KaFbtV5zXp4xIvsldwvb34k/T5HQA1dafcmQGGOLnipO9IPMpoVcFfnv3Tz6uV\n",
       "EHiIDyrp+510u0tjgmKrrcxLZoZTrZHTscUZHyT/ymcUt/FbnBxILPE2htvjLDRYQmBfcieRBMKx\n",
       "inIFXXgAAfKOtCCZSi+u3HFlTPn22qZJqNF8Y7RrDGl2pLSPmvTGJR+bAATfuHO5Bn5NIUkSTycZ\n",
       "NGAZ7mcUjs1QdHBbUkJwH5Knnyp8YuoIJIWD7EFk9mtj5xdJDCYGVJh5l0Dh+SEstTpTbijhqGym\n",
       "MAUeBQb+1Yr9CndNFSN4cEoWwP+hIi+sEfolVgAp8kN1lchdpxP31o0Mm3SGLgJGJdMvdA2HfLqk\n",
       "jloyZfL3YK2ZXz/jk7aCZ2TbfnEMVcAUmXFCAerYYeq9e9+Ohxb0mHLxaG791CwVNFl2c9/jKl9k\n",
       "Nwwcak7UAFCaYBXHxH7TUOeFQJ3Ek3qHt6iyi/D1cXwIRNthqY4ba4B3q9K4q7PhYk8nzyIsibZU\n",
       "xe/6y2fjpAz9w2mKYVRwc9Uruw0nCI+5ymHJebwQGW4R3dH0kSeN0R2qYAutEN9A8NTgyD9TcQhV\n",
       "dH9tueDNSiBYUstfvI3bocc+QoW8CsjzgjIRWhmciy3WvwfbJUHoR63IGjptT/CvaP8v/0pLdP9a\n",
       "eDHRh9QnJOsIhSu31aheNufgzG2+smr1W6MRDAtSmtBzqUT7fpB4BAHJnXAgc78PieWqN6FxChsZ\n",
       "ywuBZLI9MMHbfKpcwwh73kD8/fgNQwGRhiwXaPyvVPe6JDAxhMiiFNP2meh41MF1qjL5/0Bv79uH\n",
       "hkcimWBT9o2cevinEj+VN8xsaZylUUY+HwZAhvLiF+v5P1bChFSSF2Opp/mLQ7659wtISnup4cRX\n",
       "jVJhYwpa8f/8UV20ZXay1UBVHw7mdk1Fp9R9qqpf1uZ8lAdq4SjhLztY6axcyXVlq7zzT7FWbCdW\n",
       "ud0rWNm6hHQV+sJnfaGJwFo0aOTmDG3gK9EqR5kUavVhzUPJvo007mvqGf+mBCdEm14GhMjOtfvj\n",
       "j81zynfUM4XwsUb16SHL7JRZlLS6xCn5ycsZptkG/uziAQ2KawepHaQBehAkfZPU5Kr74wGTbRJT\n",
       "70fyuLDou+z7pIduPPr7FJmYZEJ1F+zuRfGALK6O7gxUrzkrA3x5KZTPoPZJV+50BNS9EKGVskj0\n",
       "/mSy4vCDp4qYWS1bwRF5qx8XGxQaAbXVVMbZkaUzxCYfoJ+5hpQxSgvY7chwpMkKaAXggZ8CBMZQ\n",
       "DdAuGrGQ2zlo5dIgsM7cl63aU3/uKiLWoC9HmeQVg1UFA15sQId/FhI3iTXT1mAyq/zbGPJ0U9EK\n",
       "lXA3AV7bv/Ymik6rKkWX0CbHN9DmKM7/XIyn6RrNie9cyYD28RogvUnkfZL6K2MyP8dngf9CKInK\n",
       "KbcZjZwGqu00qKPtMMEm9HByvlcAYpcXIHBVcvDrxwUTlK1VimKTYfzx6o7OtdtSkq///CZ10L0T\n",
       "KmaQtbTJ2eI1Pn5r85tvq2f2COrGjARmCmKmRtGIq+2iDguzQyNt6B9WsHG0CNW2heovMA7QqjqN\n",
       "qRbkHVqcnbjt3xA01r2YnlSvkUCEsc2Xfdi5ixj+Jofe7Xg8+O2fKb/KlfIoEJcf9r/+WfRR9XJL\n",
       "m38ZF4YyRQ2wtJoBT+HYkrhiw36OsZt3+VpYUodSyuRicSqk4hCnzt0eL9FQf9cZ1jaf9RGV0kw5\n",
       "/kShqk5npY1rvKmdun3/UL4n4KPquKUCdmjC6+kQQT62XnyUyvKGSbBEH7SkHwXpHimXC+GCtGdq\n",
       "eb+dkGNUW9hF53+HG+q7uQIgOmkdGFm7NDUZ7bn7T/H7kKKlRv5/oYy1DdoEfrrKoifUWmk7M5U5\n",
       "526hxbLOlHU9cFfsGNVT4H06oFDFhn2xEOiaasQt4a+5TgC23iAgEws+zrgH3/s+qwDT1bPz2Ll8\n",
       "E3TuxR+CTbuipSlYKW3JNdlwIjaJOPFs5w7coJc/HTDKgAeHub2TD8uXHUwFVC0LVt977uhFNuuj\n",
       "CY7vzIEghMrJ2oyREx6P1bzTEEg2uSs4wlJiBiHxCGdFxiGFmjZ2PNcTAKsbmoBSyemOPxuEibLz\n",
       "zAOEqFbQwis3x+HhXq2QMc4p164PIpbvCKcjBiBBf/hVO8NJsXSKF5QOaX8HszEkk5osz3BvqNlz\n",
       "d6KonTjtQpmmF/PSaZHHUxEyYWICDKtnDYQ+xSByiCQkmamNxqZlNwIminyngeGKfEUgN6koC4pB\n",
       "b9AQKaFv0IccaV3f2K4Mx6MKc08ZV/3w1LY5dqgi3j1JySXnfbuWrP+yGiIW1vuyZlKCU01QPi1y\n",
       "HolPOZiDxSV8lzZVcKI+txeeIKrdwPNvVjHqepWidIF19fxkrjD4rmAUZ0vL7JjhI5d55HaCnWt1\n",
       "SNBZiESkPnXWmiYZYd1Ev0igVYH0SjbCl9ZiJUxwv9h0UgTwQyObdvizbAYQl+iFbyEkbQgGbkOA\n",
       "VJ9VEgW5onXTLx1H2CBklZGceePvtP7z0/UYAB6V1VDg+WFPCl9hoMW4dwI+nk9hmMkBSJMVEEKW\n",
       "e+oaOm7FsZaCzIjQLYatsPlCI/1RAKDiViqA9H69qT4C9DKIIOxIzV/hHFlb9M/XXo/cmb3tQ0tc\n",
       "1XO9kXN5lijrf82kV+G5CWFsQ3xl1eTgTMRsnF/pMu7LFXSrFNgO5s8Nhdx22XzuDaVIB5rUCNbg\n",
       "ewSngUqG+ACM8HnyLYfnGyoHRpQySRM6EN1igUUYc0Z7wbVarKKOE3F0z6qGpTKR3SGCXiMLKBrJ\n",
       "NV1qlo9rVnCb3yGHNpASVX2ctlUqNvGXfXVNElNgwszHHr8fOTo2MqbR7XThhaLNZmsOv/TIdb09\n",
       "73KvcepI34ZsYtiKyJQgk+f/fZbthQ5DtOyNtVY5jQZxwPNKp3nv0G+j9KnKz3ZQUojpaT7xKNtG\n",
       "tXp3f0WZpbiHv4Hec4/HnZEbijqCfAUKw6DF7n9j5bxpnx5My22Aei50FnZglS4XqdgbDDU3TEa8\n",
       "1LYP66SFpKUGREgPtwjLhB7vK6lcYHBvf3vLLiyQPbKkj8rGCPJZRqq02ZI13nU7D5YkF7pp5By2\n",
       "ikuPeVGz6G9Dq12nJsNnSM/PkWGDvzWm9uRUA5+/2pkrg0AWNle3T4QfVVWbt02v24f3QdW0d3Tm\n",
       "Zx3z+ZHP00SSlmOjdrywAAG2hPz2L98p+zdu1UgAElEAAAJKQZohbEP//qmWAFuEy9AOuic3Wz5L\n",
       "D58/6gLftLdUv9UPRKbEuOkhjMsT/SpHc02vNFPRVall3SGQztB0rUcE+PI7VJLmHQkfwjNRApGF\n",
       "S2m1uMc+LpZ2Ryju9/IOVPX93ZLlSQbJtG8IxhDQiZqtJg/n7ZsXLGNKzZFK3C8YDs//EIwQ9PK0\n",
       "WKCP/RT8AYWsZnZ42Ll4bbuIaFMBNH+PLsTVtjIYIU1R9RfJ3IxwlQNPM24e4enAYY/L44iDehYk\n",
       "5qWeXuHH3WE2LPaVAZYnUvp40GZtEAkMbPKwK7B58dhmaqKdimHZYg3w+Ac7zo+lpPXKjZzKgOHa\n",
       "OIq4bXkhSGjizRHqtwrV70wkPXwxoYTvygATgsBgLR43PUNTlLwXQczkqfdKIp1qp7QxXMoqwwyH\n",
       "i3r5u5WBSAk3xhF01HpYAdiq/7abaiLQYHvzEZoh0zGUstEs754mzvfHqDYwRdp5krqGbCSiU0GD\n",
       "1u+C7dUA6q4txPLfogwVCurAxwLlu417L6mtaAWnOx3WgqIwQQzB8UqKUsdHqjuRXoB9ktPxH7Dj\n",
       "A+ueUdlVujGv4fgIdAEbjSMDccTFt94+MSjfiTAO+77//r5aiB6AWHwdaYJeQ4DawMbacXb+LHe/\n",
       "F8DZ61OKV/Gt1q7Na5bX7gjrvEIqc5OAWw+U/zVpSIr1pFUUuJenhH097oVtQNIS/k7gtOIuVd7N\n",
       "qNbKwetU6FWWAAj6ywDBzJRmOAsO4W7VmElNsJJYJZjLVnNf1GtKLsmK2kiFnzFLdnNjEgAAAy9B\n",
       "mkI8IZMphD///qmWAAAoHObAXqTtoPPd9crz8eUzRf47WVHHpB+YZrYHiXIf/0JzgcsfyUFTQWOK\n",
       "SjpqaGdDLmDFsWe4xXQ3sSmuY99EwnIlkU7ZV+stn33jb1/mHtPLVdV3mP1OV49MxD63ctMIojtt\n",
       "QAN3f+fSw3sk1haXCnrlTeig4O6dWIPxBmiyVYtx6SsxYQlVUJBOKT1AedqStz9rTunZ3asXWRKr\n",
       "WQyG9wDpE5AROMBUEfx4Ipzt2ptn8jsxZaMYxV8PRP1Esna2S2JvigXgndFSNkUto/Wt71wxCMk0\n",
       "DCKuUj6wsISqXIQ5n/WTP+NaBFKVIwli5qP5eniLRe478Q3tMVfYvKQtSH5nPLLnpnux22ugIAbc\n",
       "zVZIuIBSDMhKCUy8ZksWQyU1OkZG0w4wDD8tYWOVaqmXqp7h+6tw1STmlzmq5h+zEQsIO3Vxbpv1\n",
       "c/Il/10iO4ChdkVfWtvZd/26O5MHncKrVPQlkc/S/IDvKfduhsIQAuKg1GkrFJML4Ei301EyqM/s\n",
       "jQQLwHnTj926KiPCybM04/mGJdoWczAx15AFXRD3Z83XYqDSiwz8OS7c/RVh+N4yXSdvjJ4Upv+a\n",
       "VS8UNSQtgkunJ64+Z3gsMytrEWff8+v1q7hIcHDV0ERdjEBJb3/6BEVHRW4JKXkup0xp4sWHX1Us\n",
       "eE2OXgmzL1nLpnAWbbKWvoNM6rAiUE4713dJ0zPDDBEqkCnFJeLCMb3QiedZmnOi+tFoZuecfiy7\n",
       "5F/7px4OqP3RlFEJGDNMnxyf1iSS2jNQohcdj/34nQlj9IqwUi1UV55Jv+VR7O32DrhJItzfb62Y\n",
       "ttyb3C0H5wemHN53Z8Tns6uuv1tef4bRmFfSTd8Mm8C3skEvpiOTHLIrnZiNNM8aMTwsinmNN6UI\n",
       "L90DlrVHMo+NlkA8aqcwNv5NxV9H4FCHPjgy58tsFpYMcvacKozUetPj1A4IMB6Ewju/uK+M8Jcw\n",
       "G416oNSkqxBrvu8xpi2jMorAHF2ymAsQyZVkgn6svbBRcWAN6ZJoXGuELBeS6j+KLS+57CzV3YDe\n",
       "x83iBsQSM3yAB+mplgAb0QAAAkZBmmNJ4Q8mUwIf//6plgAAZbZ/8E7fABO3yJXfOM2+1p7tSJCg\n",
       "+jSQqUCayWqjfYKoonyMmxpE5hVOD7ceM7cxNHl2Nz7yIW0uqt3jBQfGx9PGy2aTPtIUl69JaYgG\n",
       "LExL9jCERZCD4kpjrs38bW1gw0D3X9nlHz+33DNBseUibHAha0zhsjZAN5BQ1q5zxA6wdRsJXvGC\n",
       "aTEzf4aWUrirFBcQu+tmjhvYIMlcAaIeSeRL2+Sq+SGXYH/6UQAysignaRCt47whkn552yKD0t5x\n",
       "9oo4QmztC87bTVzJul19gtuVcu5jHI1tgGuTq5HGPyf+xhhy2rcLnR1p6lgrlxLR5mRtLsT7RYJl\n",
       "lUokmvjOD/BJQkivhDCIiB4zVoQ9x/5ieEpXtT/7lQXuc4e/tW4wRIiQGgDwTZSQa3LmiwydpbUx\n",
       "ZF1OPk2PAvPDWh9JSQ9pbQCHuW2DCV7HGcYdKIB0bjcCUuBL0jOFtBDfusHWgpKAJ/frgD/0qKVc\n",
       "lNpX6sCVd52F4HeFpztFxgf09B+2ErfMtIIgdBRTt1Otf5FJa8QFHF1eMbHcZZkl5NbzN1inrBl9\n",
       "ZslsZBuHHVE8YHiErdMTzOIg1S6SL3IdILKzjNh5zFW16LUb5hpuSU1hP9npF4kyU4JHYD3EGod5\n",
       "kG8N6H6mEb3IsGBtzvXUTXAI8Jdl0fz0dQSVQldinPHT9NZWbcyJr48JwcoCjVmQy70keS2VM7ut\n",
       "131ZPJkYODdZzV4YnQY2WNL6DcpEXeEqkogAAWCWHzAAAAMSQZqESeEPJlMCH//+qZYAAbT+Xqt+\n",
       "aLFu/IbpL83uqytvMldol+jZXFmXceb/D51Yx93yJXYBrAFFJINPSp9RByzAKLoxI8w0F6CiFzE/\n",
       "+6dLVVYZ4ewsLN1j4Vo+pnsXlWW53HO7uAfYf3Ytc/026X7ej3gFjejIag7R0xKYNv7W9T4JN/66\n",
       "7AqdW2RlREOHMDZdQDM90lydA9MKvKOZ3by/gdIrjetJeo+F+3RpCQ3WHfRTytiUlRlE8rBmGMyf\n",
       "YjRatrO3tFNgqs7kGjpGYUvPrtyPOF+6GWxMvI6OGqLhiLWNgbiplHW7p8QhlOAvLPD9FN1j6fv7\n",
       "/a104I8uMZ0+5thLwHQp8WPYYIouW/m3agg8TlkSKxWhMu+opwbZED2EUwOUuIeSDGE3ZwLxeYe2\n",
       "ttx39mr359mcW8+X2/WdLb3v5V8bluLxDANkvprGtDQ9dj6a7oejc96tz7qWXgDMs5WEum7FqH7f\n",
       "wX1Ne4n/ZiihdojgTqW3SeiIKTQAbKJSyhTtu37Sszc9HhTrew2ch1wbqjrjiIIfIPr+x8djfD81\n",
       "YaHCdgb8f3K3YoZ+SBq+X8NR+ozhiRCoo3tDzZO04sYks0XIMscKNQmlyD8YtsErRM9v6ZI8hgQ5\n",
       "wVlkvoSJbsRm/+OwmPLdDhUr0pAe4kIOuT2JwTTQlLxZqP9btlyeCZtkMRmn+Zevb/Uqb60uq1lw\n",
       "yw98LCgDih711QESo1Vyl4YKnPijoXPNuZgwuiWmH0LwnYcFERf8Jwlk1i7e0mpCGQxYHqcb2/2Y\n",
       "IFSnG7UZRQLcvEW3p7x/43YgRuL0vSfaUBu0gemC0Ec5usrOqDJH12OttavgdoI80yQBQy5bO2SE\n",
       "zSSltElu5sFJr/cdFUjGCtN30W8yaTPfK8cz+0XGbrD8P2vhlnNF7bPJctAMNsaacZtjJp5+nmng\n",
       "Cw/JC+rx6Qf4VK6wAjxvZlPr2DG+FoCiGFJN9uCyEd+K/yZN8R/2glXr+oceffBq7bJrDijm7bUU\n",
       "MQ0es9F896+C7xMadva0IZqgAAqgwhwRAAAB2UGapUnhDyZTAgh//qpVAACEHwcTRxjZXKyjB/Fb\n",
       "FxOJlSLAckgAy4OllVhFm451G9ixYwwVZgZYHHjAemXjh/I6H7rwyZXDN9tRbyO5fD4qiyWw1ntY\n",
       "56NwP8CKQmbpWKrXhiIOgFrNnhIml9ZL9EnI/xe5fgvEqN//5K9FAHUilrkKgHf1CRIdopTxI/09\n",
       "j0Pxme7ndmNz306wE/5E8w0RvTYu/339IigmKQCt5qotkx47rYlHSLrs5dW7X6C0tNPJNtqAEpaC\n",
       "EJ1mPvHhjvNkGX8FDylwgseX03NQTs92D9nswz32FXkvr1P+84i4deDP4sKtzQxxUiULTXIb+eIf\n",
       "l46IcP4QsdPjnVm++w2MfaFmy6scyZO2jg4RfxtmB3w9TvEi4H4Usm68kATEnsCB0sGzFaplfjQr\n",
       "+VurYGxEmKxPJGqRTHtJ7knhd9S9j+iA6ayDymeboO10axfzoNerpdOamOQU+KfGU3iwfkdBf5WC\n",
       "YY06hRaweWdxx4utPwQ4lm1bfYh6/3TYfR6FxGFAlxEcar5c0BB+W7zw2qB/dmPZ4PGYz5uWm3RR\n",
       "df/L+TW7fbtmn3FxzPeCd6owfbX0Ceh1VyVvzyXvDk+jPwpYiVECqEyqsMqBAAACGEGaxknhDyZT\n",
       "Agh//qpVAAEYoCt6WjgBWqgtP5cVXSDwAmfL4IikLms3pJJsIBCAoxX8bTVFCQ4izu2ZU0irTDVV\n",
       "Ssi1JFydv48Tjdthbb6kqsnRO8LRXjBbGZPKUq8vaafMqXAXy/M9/tu+Vxt+mqQUdAtc+mDWWW5X\n",
       "V2YSdrQ8y14l2ey7rG9uksCKcWbsRcbHLWZMycHatQEdnPgWfiSq5dZWEHonb0a7Z2B5e942qROZ\n",
       "+B7Gl2EfKBnWcLqpDkZTDRfcvpY1gI7diJctjH9aNnHrWgXpQYyLDVzHei7h6Yd2V4jvVNo7lu13\n",
       "rgnYSjpwp9vVzlwdEnnY9/Y0XHM6e1273QWBl5qPX3qcTaAIhyOGVXuXs5a4e4SVL5JnOjPNajkq\n",
       "iv+qP/izcBivJ/O6/2EILGuZIq63kXqA4yCqBo+nJ0o4xqen/ryZtCI2II0K7Ib35tBE1i9hRX1S\n",
       "1ICVmfnMFUvMG6/zCriZVtfOBXlmRsNpB4bj5OqvE4/wNguBICKyefH/jaePCtkr/eMQ9cO+WfO4\n",
       "bCjrYPMO3wPWST1m67fBV061t5jeZ2jeIr4Ia04+GSEbTt0TT2vjwvdo2xkhm+RaJjun1weY/PJX\n",
       "Ktsn2WOrXEVHFeFOjI4beIx7Akh6+dB5xX/snejOMbZmnhBe2rlX1w3/5IWlZKDcCxMFKceSPC+n\n",
       "CfsmRObiJFJAAABipDYhAAABlUGa50nhDyZTAgh//qpVAAJj/bUDX6ZdGafTHI3r1e/IZC8BC3nz\n",
       "GrE78Xg8m2CzvKBWL2FAL8MHWBxWqBAfgYqkEzNFupgNYkrQW9myNADacVdOAZ9kKJHhhqjGkKYd\n",
       "vyxyWUtWkRXdyDAlYAIkG3UKMrXkNmIuamXKjNfwNPkOYBywWx9r2t66ocYpjpnQG7Y1T/OuhMa5\n",
       "M+ARQlFonczcKZAK0BUa/SOEeMRga0Oi20NY2vZBlR0F6NuIH2bQWUaJVbeY0sNM7+yYwLOAgxh7\n",
       "qAIoSXrDqiI2PA5pF1meGB+7UNA4zByNGe9ATICyqT3a+JoQk8V09Kd6VjNGamdw37rzoUrenBlu\n",
       "FekJ7blhyfqp+zLQEk5NXF7ERxTh0MtSfbjs+tmA95P5+lvGPBtwxF4tYgMXxq/emKeJw79vN3fP\n",
       "8aFzRQylpoiCwLD76bmFzMGAEhXr2ZQV/ozDIefuHRNPFAC6axCMToRBvRPSH0rG9WPWlR7QKesG\n",
       "Nsk/oN0WMqzdb18SP/qIwgAAAwAAQbQj5wAAAfZBmwhJ4Q8mUwII//61KoAGM+QYe6x981Ygs+sE\n",
       "UUAPQl3w18phA/lzQG9sMtafpAAwP83BVHv49Bo1JkQy3Qpa+6/ituyxBd/25chvdLnznbvkVkUl\n",
       "tvxpqkaclCiU82Uhh+ZK0FXxLPMlyfDU+p7jITIYkMb59oVbr5eoDtu97TbSybeGfykzi2g/O8SU\n",
       "0+AKdIC7we3MczCpTEqPxhCKakc/hCkySboQcty3DJ+y4+NcCxCms03ulZYFnNglWKwFwtadAI/f\n",
       "5Da0UsEPKCoBWUxc8l9Hvqa573qD1/GgW3Vf+pAl0aptVGMy9itZSIwwG5hpBYBPsceGE3pFAypS\n",
       "NT0dXp8bZ9EJvtl7CAny5lzgn4ThlU8Hn7M8ABFLgCmIIjRqsT5559Enyt+eIs/BnC8IdJLFytli\n",
       "vVsCrYrRBUR6c2aTjRLt0E6tjU3wV1ass0Dkq5vj1T4qw21bqrhhuYPMod9QClhBnrvmxvTO/78E\n",
       "1j44uJ591joSEQltut4gLa7RuEm9mu2oq1RBry6hxppum7orsUHkeeisiaZMBmZVgzR990nt/26Z\n",
       "Z4arB284BnYWl0hUI6hdVsOlXmJ/YZNjpHblh6z9iGm0KzzzEgN27dgnPARIPKbLF81p2PefObJ3\n",
       "rgFBfk4YDc/zkSvt9CdEOsZkAAAELkGbLEnhDyZTAgj//rUqgALKT9IAE7fSsrWWIeBG+C/39+7m\n",
       "lJWf2MtUTO+tJL8iJX5S5cz2vIuAGoE6Y/BKBygGBKY9YLIibX3lyfzQXiCg2vlYcVrey7dPedma\n",
       "0jvyO5yY3KkiWDzqM4s4Fg3Gd/NgBxNsi9ZxdmhvYz4c3I33OqgqTu5tDMuv7B/41BhhRmGH2J0j\n",
       "5eSQq/E8/c+VfxlVL1A7J4Zxzm7gUDA+g79gB03UmbhBYnrdtk5WNgZk7TV1rc0uFardMKd/bxQ6\n",
       "S4wx65gIF4wMNzF4I0AHdXmCpjj0OmqMzeHEdIFYzElSVAabOY45nxkzRMkvJA7cUsTk45NAn8OR\n",
       "X2keJ0wR33dtvQbm4bLHWY2MaLbFuhWkQFtlA1UFEmPlnPMEvWmXlo3pHV2AfsKbrhXECTiXVsec\n",
       "JIjnmkFhEy34fbilxmD1UgSsjhPSo/Zed0k0R+ynW1b6GIFjSSHFP89B6w7RiAKVWSWW2cyt4NyI\n",
       "2f52fw9p7ZsehmJHdiKdlWXYr52HsofN9QUABs84+nIbTbDzEwwucD+VpbJ4iKUhWJoODTgNsnkc\n",
       "XkUsnv4yjkl13y3iDsuhCl0hnAXirQaJXcqgdYoqicdyCXKQ0FXLI3ilcuPS5nk0NfXg0YEFWmnk\n",
       "YnZDxA4ufNIXFVaC1K+Y6KxN0Q8+71tGYcXGByHikZtV3RLC7za0qUMRQQx8Ot8XsGyOnwnDWbuH\n",
       "GRU/FJOv6+1WbJW40IzjUmBFfU0zWckEi2fHAQPfSxiP7zRWKUch8bVroHrXcIntb+rGt1gsujJQ\n",
       "o/R8qpkg3yjRdMYrpGfFHo9tAynoIYfji+cyUuC2LERm4IGAzw1UsP+dv0ayFUv/RXIx+4+Tkyud\n",
       "lVFrE/rfIZqK0xxOn3z+wVwFeZpuTXG/Ce1Emkefd7oB0N/HHIHltmLu6TnKCqtbwELn3EuMhP+5\n",
       "RM5Fm4xKulf4KV7BN01fbm/5xPde7FbkpGgu3tTN2pRzuSn2jrsbNpJIQrdJP4kuRPkL4kwTGJpZ\n",
       "VS4lXzYmyJqG34jAZh+QMcrQ/tR8ENJE7/F+wMQBxGhN8aEkWhF8s/BCFrRKQrHHvGQey0iJAqVH\n",
       "U6R2nb7064j9oDgxw0a+qncPfT8FlaIhXiVCQA4ydq4p0laa1BwUK0H8mXwxj2MVZtLWDxWl1ol2\n",
       "8zfJonGJ/fKYa9QpbpmS0RFvDS3bVSYuj8hL+qYAnArs4G+5ROsNQTA6oBJokZHJgxjYNMJ6Oz9C\n",
       "KnGZvK8O/eWvnTbdWzY6dAxiP5Ys9Tec/i5kI3wKoMaxyJBm8ocDl3NjQA/sc8x4wHKTW4a+mPL4\n",
       "b/UNSX0glMBjK7Y8zWq8dn/HmhyrA97YF6MYxabusrr+lj/7BRk36F1fakSlel4RIUyOoWlHCF6d\n",
       "p4CulaSLCR8wAAACNUGfSkURPDv/AAvm17HLdAL3XAAdpc7LZtRU7MAuMkLeErAEK82VQLTCE5DO\n",
       "/LHoIshZ41n/QpJUKPTxEZfkJfFq4OtSEAESw0L/tB9ORJbVZcV4JO55wYT5fOno9CVsyG8YkD3C\n",
       "EJFL9jV6GAlfWmLiAYCmY3Z9xzFPvCWIgV1dRfM4GJIQ5DVKoiZ7CfkhisO8zLU8THEZeVl/81wM\n",
       "5bQ7pq6X7n9K1RW1HJpaEGcf1hcq5lhjJ2G2Ft998DobQgyH+w32BnB1Eo4OUS0cS0PUOitnb3d8\n",
       "JG7MZ8H/keRN+vbc6AJBy+4yzdTC5juAaqGfx1RW4xfERpDKe/VkNMm0QW3McLyReDq41/vOifjn\n",
       "MqDwfDM/9r1YlC3qermVRxmxtrSra0feSOeoyLf3nVMBZ6qLICyIOYpE8ggaiAG8eru5OhI+xR+2\n",
       "wiu1vZ5nL6BajH1P2v0bKLi4CKAN9bhQooBfGWC+Xd9D9n/cCE2IdZCxl1epgPCwjh0AELquUEj1\n",
       "ClMU0KdaLg3GjRq2/WlwktQLr80kw0YgkiSOgVgOzTXAeJ7I9PLaUP4lCDouAHxNSu3wrsapDwx4\n",
       "yY6t0jSrhDhLkktrjI0Aw7mJ0rVDxTc3XqKv4hl7Z9MK7zWllu8N7ssIZ4B1AUbysxSNDhf3QR2/\n",
       "JeL2nWmj9to58ruqtic9u5ZLtcdf9vj6bu1UUcDg5AZZZUXRL6UK23TgidrZ0M7GZzzM8j38aqwC\n",
       "1xgexDH58+EAAAD1AZ9pdEN/ABDX2u15drcTs1rkhRHmQRO8AF81rJFEC+yRg8zFV0ZEXD+lF+Mj\n",
       "M0PO6TQUusl4gdFCl77POYeX0BZNr96VMcXZilu6QnRNqtrURbjdNPgjpYFNoYELdRGtQIqgnKvx\n",
       "gHSlP+hitSuGSt5ZtVEHKAoV0q0XO7EpIXkIvArQH8yyMXVPEv5Vx07KHVvz/hKuym+G8YBfV1nP\n",
       "H4VGI3Fro38ibq+A59XVOVRkLIbd824sz1DZWgmMnWXm8e3e9CEmENHL0J6mnRow7BkAFB697CKL\n",
       "WVhQj1iIo1c5aKDn9Ikj9bKtbNpmqGtgAkzoBLwAAAGvAZ9rakN/ABDa+CrKCk3ABfWfofV7Goz9\n",
       "wT8Ynw25p5I+h/GJ5EeUWrfLfs6IiE5zrlNX+obUTu5tUDye67sUyN7XEWlM74CAG0uEx5qBZIc2\n",
       "D7QFk9qk1MxuFzvlShSJ6g9uVmtuKOcbL56HbYwUZbud9MO0xM3yATupqtF2F+jeu6z9nVfq7pVV\n",
       "9p8kdkK//cDNoyD38n/LPVWfZfp5zJMLceIKpZK8eL4B2zb5YQZDZGHpsdm9YJ9AOXmERJDoGjx6\n",
       "ghNu+JJK53A/tXpRyGnVskLXQVz9n42NpCmPcgoPQ1a6zI+nnDbs6N2qG9n686fRB2IhOC/JFI0l\n",
       "eOKP9HfvHOaOlLa9GAsQU1+7HjSZSky415OqQrMfj1DwK5wOi6gIkk0JGTqUiwDnSB5pA4JvX6PP\n",
       "9CaRLrKPSmOhmsUWTEsedpwInCLzmxm6H5W6YKMavIeBrjaDdLVcgQIYoW1PT79WSm9NyEk+PXhc\n",
       "nP9Q1qP6Riox5ipgFk69o8Q4tn0y6TqJcOqf5fPuLOoD5UOe8+2kqVElc8DE++mComN9HmFxWAXC\n",
       "iX6gHXdIGBAAAASTQZtwSahBaJlMCCH//qpVAAW3yvIAW8uOhGOthc62rtancMCXmAFaQ7xQQF1K\n",
       "lc8JQn+z6oSZkRw1W1RqgTpjE+8pA+SQfyhcam7l+BCPQJtgNwbvs8U60TQ7WVCR9FST16KUjCkA\n",
       "Vr0fR21fGwfPmVytbuLph7vrYrlU+c/76rjy1geRizzjBovJz4bGlaskvu1eeuhnR9DGZ2VSkhkl\n",
       "fAM1dVjMwLxdALt0d8ebZXUxgBjyZ9BDiOqRi6DzSg33W9MlSjYzda2L44GO8sSP32ZE/BhvRa5x\n",
       "Kx/dQGvWURu96Y4WarRAlnt6WIY7oF2EwyZsiU2AnxDpQccgO47NuAELw3XdAXPSgTcbF6GX2EG8\n",
       "BsK9d8kfu/A+gUb3nT3O+EgNvVo4uDAst4XJe9G/D1wBBlFbJyMcBoE6BT7S+gT9VYQapdzotQUp\n",
       "Yh0KM006mCcr1myn3FaxBxryauVfwgfNmNzknjQZ3Nu+pxwySyd5thSq7qgS+kXtpHHxFryweTtb\n",
       "ma7X2HJPb0EXeXV07w/Dn+2LCi06ptL9Hp3r5nKE3Txf2DUQcDFy9AZ4OWUofMCcY3ZahuWxndqd\n",
       "8jKl6FHNrbCXDL9mMxcWWgMXqFvjfs9Ma5PZJUtbGvd/pa7Fy0RyKVkWIBF1OivCY+jQqnj97YF0\n",
       "miZWEizPIJACiF1yzF9Ib8A+SS6VK+VeII0qDn67RW52vtQJyN6W48s8rpSLWqZ6i3nBrxcOShz7\n",
       "yqPocLujEWyF9Jd4IIj/E0oVMqVefQgFl2VDY+ihUR13v5o39XWhxgXzw17i/kFsDh5c+Tr58cnV\n",
       "u9fwXtRXPkoi4ed5RC04EjhTgIBdtZ8FM6ANB5RPg8XAwW1N8FsX8m0ow7dFHmTNQcMc+90O/yCC\n",
       "08j6SqShunJc7ZMGAv7V/TXB006nx1VlZL42DO7M0LbM5Ay7g0srro/U33IpmFf3Z8eI6KeZ8KAI\n",
       "II/n8mPMUl0EC9M7nen1rr+Ejp2N0Av+CHx4qRa/f3MO8MCSfu8ZwfWXKzl1BHDTaHRKjvd/AMSt\n",
       "oGpClctZSb5aREBk87sCCXKKMKOjtVdD6B1bqjcWSVkoNuXXIq9rDotrtsQyOxF48HbwqOEGJGv/\n",
       "1uewjEtTZKgo3gxS7R9FLDCb0oNdmfnLjzKHR2xU1C6mdlBws+X/HdPVWqm3EM+ev5BsOEDRR/t9\n",
       "2feN6lz1EsgzIHr4Kclp9hJg6WaygOOO9VSH7lLO/uOR5guCwl36OAGQutVcsen2OMZGWiJEGovd\n",
       "z829omRSta5G0elXtgsjSOC/DofIYdCxe16mmEVGThtyPWAnZPrXTRvgAELRHKz5uQuI3IPf5xyQ\n",
       "dlmWm4I1ZZ/Aa4fJXkl3KjIIRvgcHg3oudyE9jwjW3KACRtpNHCUgmjIcnuqMDY+1VNYeO6mQOWW\n",
       "GGqAahtIhWcVuV7/PSr0T5KoKgO06pqlwfTgmCGdzGs4hsAogWDOw/dnzzOUuOAC+fmY0aE5fa+g\n",
       "T9YfSjSn04xU71KnbPVEASKOy6nO8uZeHtniGU/dPqf7u/qPzj5JUFYN6QAAAudBn45FESw7/wAM\n",
       "CSBe+h6AC+vhpW3kMCht127p0gUMmpf/JXf/gjudf0+0yu67tRoOXWVCPIgiTf++pkJUMIrjbcn0\n",
       "0WHBihQUgpAUwjADZKZ+guZl9kwpRocsbi7rs2zgDRG//hy1lO4K89BGEi00Q0dFx6FezHtIdvT3\n",
       "2EyZ9ItLZLXmyQUutHVttRRWKPiduKhDAaCqie8sjnI5bM/ehOPRtQ5SRtGBtee47ZZNLH6T0+Mf\n",
       "OoGxwQW1NB/97h7/pR5D5o5aNEWI/E7gyRQ44b/rnorcVT1kO0Q64/8oMWtyiQFzlHHcs5yXPY98\n",
       "xZntdw92Urv7AmrpSS8R4AUdsNUNlbiZVCuj4TYAglBtAKa0/iZmpmsC89KB1Z2DBZgZYF28T77x\n",
       "Gq0VvqeCEmFr9AI1/+oPs6iQr2BUKZ1WthjUhTIxZ8eK48sGcANM3gZp8wLyyGi69Mp8J/KTnnZT\n",
       "e5d7XW29IcoOOP9XkRnZVtjbdo2g6UYl5d5iuVGgFgRrygWcuzVCVdPhfWUqWc4UmsDzOOSzClu4\n",
       "A9SjkXwYVmrk9bq8bokLqEggI4CZ7IFNPWwGRUV/QN5cUPEAC6lN1alfgzAEr5j9ssbTY+KmjMx4\n",
       "U61Qh/NLOie8Bgv49VLqQCRpyzs57+g8bQ/Vc2BBONOr4SXTShscpMNj+WJtaOxbV+EpVPXvSYQP\n",
       "FmvSObRxlAuqqkLPEDsRT/2zZsbxon/Avbr+FW1YuHcnf5UWyveEfUxoHIicJaBRm1pvfybLP6kp\n",
       "JF76uT6fln6sn9p2/wJPq4Cg/MXXbteshHYRGCG59rp335hvjqTUgGX2GcPerWn7VSqbo9Gk2qX8\n",
       "CCNd5mx19Xy44mV9l6yjmgXLcMSpsKVIU9xPkzJeUM5lmJmhyzYFyYYe1imLGbOj8k5OkctSBIEf\n",
       "axi3tIqYwDHEvzAO2S5kbmpPX+EiO9+zbEYRNOgqGx/Auax4xtRV3H8kFdl4xCYCIwAAAjUBn610\n",
       "Q38AIbeRTYLYxp1mm4AL69v66EEHLL2sWjmC1JBMuoI8lGOEmg+hN1iy6VvhyeImWFq5CNsl/Ucs\n",
       "GOvszwOYIDHQ/6OhSZrOrWYtIkm0LqtTEKgYlcFsTotdekMH/sIuotfRYzaeO4Mut7jSezQ81/GT\n",
       "FV5dKzQ8nzLwS5HmM2xKWprRUUmknNm4v1lKidfz4W/edSbhOvkO5kK0EEi9Zx/ByZdUoIt/E7i8\n",
       "VJ16CHl2k6TnhAd0VpWkkj3M7bSeW54ZqIqeQT7tBD0iSQurdR23oApdYf6JMyY2QU9iNsqNqY5t\n",
       "79c+LQyt71sQpgBIcsR+UjgzvGg3cHk1pIY+hgdLvNyh+MRISlo8oFja5xPNNl3kkJFv+cntSCmY\n",
       "/rquSgGDNVJ0weComwT/WeF3HjGI75tpo9XyjxE7rf3NBeEfnlsJsqthX2M2Gheca0RTiWsyrL/a\n",
       "ErExJTtosaAyJ0LQfz53L6j/sAD4y4KOMNBvKGqQlKj0/p+I7CVf4DV7CssoC2a97Fl9c5j5kL7H\n",
       "IXkyEQsxGgxnHJf0W7d1KAXcKOQc9r/bWRCm+G5b9XCLIoDjfal4NlD5ULcp2Qc2i//422jkqrno\n",
       "eiLGBTZ2NGLIeFJ4n+HGMd6SCrYbrshNCNrXQp5lzRgEgAJ0QxtWUK/uXIW0d0XSQQy5YgDPNMYS\n",
       "Nv5MwVOr4mWdrhUaLVJkDkdsgejHK0HFRo7PNj3f1rOoARU13lAhAwXai/f+GGThAAABsgGfr2pD\n",
       "fwAhsZ3OzvTtoAL60OwSxVCFMQdAYEggmo9LSc+WwbsrVNSuxmsq9FnoZInbRnDpSezCAWcQ7Dck\n",
       "AIU9AZyMAz1v3RmPMtIUhgy4/8IAgOf5VFa27K1WwAdtxolD7/NnNKOAKnBEccav8S0B0Z5vUecr\n",
       "lZPMYud/E1X86o7l43DW/s2zEEFc6EGnwNTSVdnz4mmpLcHE4fnfeBXeW/wnRF5WxEh9/WgzL04P\n",
       "0gacVmHF1fzQpYygKf9iCYWRyOVe32yjAPDRhEyLWO2aQ3gMhXneTWxjUNynhCHxXizJF9G3r8Ek\n",
       "JMcGUUqkiDsiVQFSo14uZP7wBcILPF2o+d+dsYDEYSLeYTzH/bT45SZq3RZ9jFAmcoOsZLTRj+5w\n",
       "U2N7ZpJnggc45BNbha8MOTq78rFbEhQtfGL8LV+iZN0+ixVY8XNvei1RLycGyw4dHH0GaocrQWgk\n",
       "xQLJ61v2+Nv4cLnojFiFo9VHWrYP3HHUxOJjB9Uak/vte6KUIeuUVRrCyb/mczuQBNNQ5d73Ar91\n",
       "tQNghPfK/OgFx6MxToIW21G7rA3JLSfVvqAv8+GVAAAFFkGbtEmoQWyZTAgh//6qVQAF28TeAFh+\n",
       "RDqSQN+o/0aWY0bors18s+9sZE+jHf4Ftg1pCtXjhwHucQyi/RelmQP7pCxbklP5I6W+5ORhipYt\n",
       "C4dUq1b/2S03azscgwc4ZuE6Ki4G+M/kQ5ejHEOQOKFMdzEgg1aQdSApwdVykRaZqDmocbC0aMzb\n",
       "KT34/OHd9Wtks+RT4OTMFsAnG7MV4UAGpK0FM/f1ihy3LGUmbcJrrE+48BZjDM4VIfM6dKd2SKXW\n",
       "1v9s5XYxhLCs25d2y2bNNIsVQdi4qJjLa2A83zDNKKigUbQl39FD1za+JCHrLaKIODn5B5ogvpn8\n",
       "HnLAEThAqIy4XqNJomEyX7YwH7g/1Zn6wbvRnnqXci/5iKxfC3WPWyB+AzMohJrEErjKNihuzEop\n",
       "ctep/+Ta/tuU6L0Fx3LN3nZoZCvijguraj6cM3rNNEgtqgDfzkF7QwSJF4t5HYsJ/rx/viJtz6ka\n",
       "KsxXcaN/68tJrRZjk2daF/q2GajhNRq1oBwluXLfXAeBYdRZWIR9p6n+oAyJQzKkeDxKdnK/5Qqg\n",
       "rBz1pOtdbo1bxvJMZyGdWYm9mMeIaB7+ggi3O8C9mB9s7HhrrjEnP06+gBtiZPR9Ut8YtRSq+gZA\n",
       "97ugDJq6Ud+LX+E4D8F4FvNFY+t7JxPJTLrpmEWza6DWGF5KIhxY06RRo2qIqYmlGVtaiYVsOMyW\n",
       "lYEYEy8WA2ArE8XOtGwRSP7XBtugb7axeUfOyPJ/8SaTvX23UO1zNYPThwOcAV5pv/XvKefKvBfB\n",
       "8YBYR/dM0rr0wWZ5qeVCTtFHd+bKZ1pgnmgPBrMmiEEWHOuv5H7DIdaGC7LUIupABnHJ1tKU62Bm\n",
       "oCO4ZqVN1wRIbAdUfsv1XlNzx1/uy4mJq5e/Axne6an+mFAozdEglT1YvxpCLRnSKzNnzxqh5I8D\n",
       "k0Mb5zH+AuOX1qfCNqPndHxHBeOm2GMDpB60TpLch0S3cShlk3KoXqNLc74uZbt2Wtv+7JDRNEmv\n",
       "njGtwqkXcUClYFJuPSoFjyXL0b3B1t8vH2UMETaQNnGa0PuMd132MjVIxaoJrM7v6cNVNvyM6vGK\n",
       "t+Ea+XIcsD7hnxCznh9e8m+sfIYB1PJ3VWXfWqyjIZ8UkKeg56wHzXYhogUE5C5GoRWhg8WlGMgw\n",
       "zDagp5No8XujQgMuzfe7o3pnlSdN556si0LxLoWblFxJUz37MD0jPS2KVc6/Owbf4lT4SGo4zInr\n",
       "AutMVBr+b4X/I3r5JCWCh9ZC8LvLn0ikGD0suzUUl+PKL/3NmDlITQMMPHfMD/iqEmK0xEMs9EWN\n",
       "QG9biwMDsJjvkOh8VuerfxwhVqgmc/mSa94wxyYxvduwDQBsGqnI2gTgrn3is78Y+kO67MQrQamB\n",
       "Eoc4uF85BdZAVUtYgYb83OzTpXyzwQDBjpujMVT8aomaZDxLS8d9DiYqPWaNFkYuswnO5QjY+tLt\n",
       "+VPUNn4uRzAC41aqgyRrJDSrYn7fWGoUlAUbMqY+m3DiL/RFd024clupWrhIq7vPHPH+gjD9fJ6g\n",
       "uxovwajercxYQa96DWgOU78nCvH4Ljyodq6GLSGqyhOFX0WSNMKYPXgv3Q9q4KNmxFDNQjPpl4HQ\n",
       "smZD3Re03V4jDQ1QAjZh3LRTwHzESIN1DDdaofEsetGKNthbcprKgN4mCOsdBDlGobivYINExtqz\n",
       "6XGFW1j7XGH4urTgl3pPpfprJrJsiOQK0AAAAclBn9JFFSw7/wAMCR+9qjAXvmnYSADZFWl8UPI0\n",
       "6HEJ++1FScEgiAiphXrhuf0iWhq7PmMRuOZkcASKj3voZBGyGUk4PSdMXC6Ne/tl0cKpqJ0hwtpZ\n",
       "edG0JCf2Jcvt9h6tme3eEuvbn0f4eWDIdeIg8LcyodAy0T2nCISuQNRuqQfRzPL+a2T7fLY0tXn+\n",
       "8EqztesMxJjYJ5u4h+GapOEOmSmIXr+tR1DvpaIQVSHqrJ3WJJ1xL+m3RFZjx/ByMfifLawiIaX1\n",
       "i0kvP07cQNsPfg+1Fzr0cDtOlV3+tvX77wsrc3i77IG7t963MPzaaBuW6IFFGG9ielp7jFERUV3P\n",
       "hPmKKzFZ2xJkoFP1MK9u23aU7WDUqdakdnBT3D4ew5TO9m+MYIezO4jb5GsaBxLWI61I50vOukmx\n",
       "A6yH6GT2Ia9u3kIPUEJYRAfiVH5K1DCqQXaWiZJKzniVdX+PjVD6WqtqYUknm1wFaJF86LdQLw0k\n",
       "tFIer3nw4jQrneV194ytnPiYFBGIUSLyMN+0lPpgGcEUPJoGGzJO5YOXv5NyhcUwjvgCMGx7ne9J\n",
       "V6mbM/SOlRiMVRWi9CJhiRW/1/l4CjdYRIaOmBQRAAABawGf8XRDfwAht5D2gAAB2aAv+B64LtMh\n",
       "F+zSBvfaEUG09G6W9ck+G6ajgYqE148/BpH2O79X19zArELyFOMpzkAURZ26VQ+6MSuI0zAcSk/A\n",
       "cQxz2JMWBtwO3qdWLbIiH1ITqsADLV7U++emJAXFPmiiUwypjPvnOopXm8Rva7oq6c6ypDXm/XOR\n",
       "R/qWbPCFXDesZ97ojfdB479785+4AlTGovbjEK4wMK1pOjEUwDwfz3EB/h7+N01A9AiNYrNDpiIP\n",
       "yz36vxDnpDjzGxh4Qx0Pz6UQ7OLF3YI0HApgXJovtQpwwiQmJKVEnmQrbq4hJPPOX6gWMYy4hGub\n",
       "2Csy67lEeH2CvZfRkO4Bcgok97wgtk8AUvsnY3x4xZavl6e/oGJfkgvQ6T+SN+Jv+DA2ri1c7rx+\n",
       "/wtvlwxZm4FGjX4ecSGaf7BD10tIl9/csrlJhuBg/lvmIkFc8gCsCTuTILd0pEHaYdAOQ7AYGAAA\n",
       "ANQBn/NqQ38AIbGdrs79YheAC+ave0DgCNaWQMYxm5u3bw6pCl7cqhT1R3qV+ewmek4CrGKgV1NV\n",
       "O460fG55EVfAz+A1x0nwG+cEeZh1M9iT8qD2WuZkcEJyHG2HdGe3ZCP0HFlb7LxaQXfgA4YDAHts\n",
       "F5UDdXFvmp9a4w0Pt0V67o2V+LMQwZmQxg8RR30U7b56L0Yzb3xJrHa3qAmuYDDkZfPOQlXYtebl\n",
       "cAmKtjPz1faBqEFn4XFl+JStMU6JemlH/YAuTHURwgZpTbhhfYPlpkbm4AAAAidBm/VJqEFsmUwI\n",
       "If/+qlUABbfK8gCJUfJUr/mJTaO70ywZVDRzqIbxse8ee1Mb9xWaJ7U2uln+VdMBcNIZAg8ADDa/\n",
       "JlqsURPpukJB7porL4n0U7703OgisAw+ISH+I/e0Nrpuc4cUlEXTgl//mZG/Ecb1+SxIYw7/LtIr\n",
       "Kh5Kd72E6BSUQ1mxhyVls+3U04PdA852xRCRKM2vK45LXWmY/cYWNppC6ueqqlTZsj0oWC5vZzSb\n",
       "MdtP+tUsSHs5EMXM/0ToGffRVHZ3imcLjHKivWkbEa4UqefZ1ai3EIlUs6wa/8mPCa3Sz2r1bsNu\n",
       "R/JGq2Zn3H+QaNvgQq5q+5MdG46OBZTtlUm0scUeANmYmF+dJMggOcT+QSVEoPVGoq6Ocf9lk+Tk\n",
       "DD05J1z2dkvWKOMN0eX0Pw1Pi9pxjhH3v4xtPCr1YdNWxDMY0wVZWf+cHel77Ehjtof8xOVyKbaJ\n",
       "TxDd4DHvcFlJ4ncidza5Y+zsqV7JxysffbIDD6kEDhj5OEchMrpxlbU6IpCTrKcukkGzbCgB4WKK\n",
       "gSd+RtJfsRlnmQC2QIUY8UgOQ7drQe3wNDMg4zW1AyalgYKIs4rnTOkn0+bgg5nyEbFwRD/51tdo\n",
       "tM8BnQ4nlCwu6dBpbPv00E2OMYsh+DIw7qN8dP+LF7j9qYFVfJo0A5w+VWAFTqQ71SrolfqpboSk\n",
       "P/g1Lbgxddki6BirgwazSh6e425Bnot94AACLwAAAnhBmhZJ4QpSZTAgh//+qlUABbfK8gCJUfJU\n",
       "r3e7ocjSnJHAJNEle/fc8EKAgi4JYu4ZzS7Z/j+LLrNm4ySh7f3dCWwfgRAy9mdrG1n19QHAgkyS\n",
       "BZeNGzZ1SKQ8xsZ7bEd+iG0z1G8hdETD948QEq2ksweTLA6s98PJxKiDcfCJ8x278y/YRibT7DdH\n",
       "zsQ100FzVFxBmeHLlrDH6ZjWYxypsaF8tg3+v5NL7xSD/LFQW8XUhL9OgXr8EGOKY36E8rnX+ywJ\n",
       "Bn2cWlTJSUHZH4zuJazwsH9j/nAlAW6KfvP5xlgH3uG2Oudxv0QV/mt5ScL3pqXI9TxPo+P+kkFk\n",
       "6XwNNpeBx1Gx33qzNy7CiiHjsJ7jmGPfripKbHCZVr8BvR53N7cNM+jSaFSjgupo2O3OlQ7gqcxW\n",
       "3xEUDV4hmwRVuX/d6uld1ugP4cUJ9BxnwdaJrkPHhaKXNKmAqI37a1G8SZA/VX0W5Nh65dkCb44P\n",
       "YNDlbWqumzpDbz/60fUr8g99+jIVVw9xICjgfPFgbvWliPTgrjK0N/K8UFX9TiDxpGd054D+S2Hd\n",
       "XqkoY7yW+IMpYdD/GpdnVVxNDaAPvX6v9Z/vn68Gj7yrNBtuLQomgzfApzdGiLagBXEync7dZEtY\n",
       "Rh0ZRh0e5XOg39bhpqDgkZyTkSe7VZ//UM/DG3OOyoARiKjlBKAabusGXqpR0gi+mUn6X+vQs9AZ\n",
       "hUnsG2/n8MN8uaYpEtXMjX9BUjB56zwBbVJhp6Wg34hP+EPJTSsK0U2mP//W7HWE88oEN+nxoCNa\n",
       "WwgTbOsEnX0HbQsQ9AjrodfTmbVFCfKuWVqokJUem+mwwGjfMAAAAZBBmjdJ4Q6JlMCCP/61KoAC\n",
       "3FP7QAboUk96fUH+65RCZCiPk3BduslNSsgq1bEXn/qG/YIpl5qYuqWhZuC4uhf0NlbhpibNJwYD\n",
       "QQaLJZmufPBT/9saByQiFq5FEKuv6q5+wo2QtBT7Phv9wyzXPvu9gdDG17M207vYWVbln1Qah0uI\n",
       "szkxMhkwLjjfQ2DOaR1WS65XE6H67hGcJ8123+FsWFscWMJEzUmOagofL5OqmGsvZq3YdicCrWI7\n",
       "FHHFmq0lo+c7SMCd41GQc/WlIITdcozdA9nn4eSj7+iIdrBFw+WUnN3upA5FQdueZaitGl5mH2TT\n",
       "YIUuh8E0vyUQ0mRh7XCgVdaatKn7T7degNEHxK04GMG1fdGh6DKoRH5/x1Ixh+xFm21otojBPV4V\n",
       "DVUBxk9i9UPCbE+kd+4ARkxWgPvbpnLaGh31cvwQsZNrB5f/40U2IfbyT+TTj18eMvc3EmFohgqe\n",
       "634ukPW8nYkkyieaE20O2ebM7+Pix1S+oWbUjiq4JYoKmcBvf/wdAAJ3AAAC1kGaW0nhDyZTAgj/\n",
       "/rUqgALuT9IAHGbOi/O+/FPbr+n9izAq3FkAFSbvFfe1boMZF22rfa261yCsCir2n6odsajSQq//\n",
       "wEzJwDhw3DhUs/BKXq0rBIhQz7xbp4+2aYk2848NFJdc1brd8EltsUx7bcIbbIvIp74IZmpIhcZe\n",
       "QhDw6jos49AWVUDy52qx07kP/qlRIgGvT5+FK/oOFHuh+Dyn9febcBxkHs1GDJvOx8OTBq4qEIz3\n",
       "6N+mz9jyLSsBzSSHtPt/t2VpFHZclnEYMap6X/Z0+URBA1sGHnvclGJwqcQYgWDBxi+iewEfgMNw\n",
       "2AG+O2is7DkM2t8k3+FV3yJcHAeFI2yhf++5I/LfBGfnl2f+ubQ9yDAzpFzVh+fUgZzqfkFtiBYy\n",
       "6oF+Bv6GT2ZiVR/gNjvjAfHbnKSF5buxlk16Y/CAH48XTWCdh1zi2FUrB10Wf2aBWwXqNGYypg3s\n",
       "jXbw4KlPEZlfFRwiXu95XwVZDY+g9t5cSEDQsHtZ/IRRg4QpekBb/V1FDRgx4JhJpfNqcLCn2v6C\n",
       "OtbyHyNi1F7Mmw6rEqPlAl2CYVB0Y1SDw1FYdbYZwO3t6kJkxkMwdo7n6325gDtcoTaRrooT2jir\n",
       "r/rT2ngVEKaGP6AYz2bW/OHJnvej4g8S9TxupqOQ6erqFIisKKW8HNnLBYjERWn+4qr+9Op+lfwn\n",
       "USrTaXe8cJ2+QD7K1dJ/wtop191p33/jEnUlyFKDeS4rUToA/pxK3AIB9CUoQ8qlwmZUF/Ceumsn\n",
       "KcAoIIqVUitzM7+tl34oBBxxDy1l4vpMF+ib9LnnNvZzdRVwZs5XLN2sEsEMDNKPm0udJ05mpzw3\n",
       "CWxeNJAB8l1373Z4iTqzv2UReAcLrNoZcYEKSH08UReNWhELNik1eS+TbrLV0y/6bHs+qXO8i8nS\n",
       "gsMH6eJIY7cfVHjx/QmZOjBsvUezQGLsdz1lEAAxoQAAALFBnnlFETw7/wAL5tbIvBSfsAJodPRE\n",
       "utpfJfAgpyITa77yNvYBWkxnvryVURuTq39GAQgf9OXnSuqknRRmCevXn6D7f0sx66HFbdiI/IAx\n",
       "5MCw+zz/GoiWykA60qDu3TIwz1UABMzbqxAME7S1aEn2Av0ifYfOtFfXbBpCijK7fjE27ORP2kTv\n",
       "NhYHofbWbIN7zvcWWxNtj4cQh8CtsNfur+jq9kVWZeER74iR4qIJbZgAAABUAZ6YdEN/ACG3kU17\n",
       "xgekawADtKjtuklGUbC1IWdpvn7x5R3bXYSouQjDgBxNoo8VHWlXx1KCYwI6iRFn29BMOQZCbS/6\n",
       "VIR/BoMVBDtNFya/UPaBAAAAKwGemmpDfwAhsZ3OybdEf9LrlJWD/ncjTcGKYEKMnklZalGCaSNu\n",
       "Zr5x0EAAAAEwQZqfSahBaJlMCCH//qpVAAW3yvIAW6iiGthcQcebAXf29Dpt8AnTrOTMZoOOOnJ/\n",
       "rfPf5cspoZddmKkbQpg6628ep0OjI5gt4bilgk6na/hXp68ib1jNwj3BmtvTJnJHg1ZWIlHM8s7S\n",
       "h+gJSxonmhN3f/VfqHtvxDci+ZjH6gWDJC0gelgLLJgMB/reYF5+t2Z4PZEqXXjli85XqBE7COh6\n",
       "cn1NYrxCgH6jtZqq0yLzPbRGc0SoNfrL+kCqGXK05Vtaw86pcq6hy+ia5GJMEeBVv7dGhJm4KAnt\n",
       "iv+UwPvMyKqE3yQd8fLREz167LRyx84MZ88fNUOAF42cxvTmv3r6k5JfJlqeEp2jTN6+7jvVxvyw\n",
       "QCGY0vSpKPeteN5RKf42bLa8/EtIAPwrAAArYQAAADRBnr1FESw7/wAMCR+0uCWnr6MzQMpGxDgW\n",
       "8sv/6qPQ+8wLvyS0KDXSk6uh61OQbwW4K3xhAAAAIAGe3HRDfwAQ19ZsyhJ3Z6k+yk3kWW+o3zl+\n",
       "YAzPYCHgAAAAGwGe3mpDfwAQ2vQEW1V2J/CGcBYhz8DNPACpgAAAAIRBmsNJqEFsmUwIIf/+qlUA\n",
       "Bgv6uBabICNPZaB1A9pHqo9CKbOY328Anib9PL4d5pu6bm+fb+gEX8/7w4duOHMS0dZrGMq3ee5M\n",
       "XH9N/nTF7+irVkBrRSMoLMPWnZMCdL5Rw4uLSl8vquqTN2bQySu5vzsRAYhYGTZew7Je9MdOOBrg\n",
       "AQ8AAAApQZ7hRRUsO/8AGBJAINhO9zUH9tD7Gi8vTKO9j6pEEsQxiZuwEBZgMmAAAAAbAZ8AdEN/\n",
       "ABDX1mzd1TRz7+yn6doZSwCWAgEfAAAAGgGfAmpDfwAQ2vYuJAdcdWfRjtkzQC5mgBswAAAAJUGb\n",
       "B0moQWyZTAhv//6nhAAp8IbUBoADtLQIlv9Y0kk8+IAABQUAAAAoQZ8lRRUsO/8AGBJAINhe0/5T\n",
       "mObdc5D/HJ99AtSF9to4q4ETgaADPwAAABoBn0R0Q38AENfZThQwEUqTqe50jYC5mgCggQAAABwB\n",
       "n0ZqQ38AENr2MitZJ57RbYXB1597oAp6IAu5AAAEv21vb3YAAABsbXZoZAAAAAAAAAAAAAAAAAAA\n",
       "A+gAAA+gAAEAAAEAAAAAAAAAAAAAAAABAAAAAAAAAAAAAAAAAAAAAQAAAAAAAAAAAAAAAAAAQAAA\n",
       "AAAAAAAAAAAAAAAAAAAAAAAAAAAAAAAAAAAAAAIAAAPpdHJhawAAAFx0a2hkAAAAAwAAAAAAAAAA\n",
       "AAAAAQAAAAAAAA+gAAAAAAAAAAAAAAAAAAAAAAABAAAAAAAAAAAAAAAAAAAAAQAAAAAAAAAAAAAA\n",
       "AAAAQAAAAAH0AAABkAAAAAAAJGVkdHMAAAAcZWxzdAAAAAAAAAABAAAPoAAACAAAAQAAAAADYW1k\n",
       "aWEAAAAgbWRoZAAAAAAAAAAAAAAAAAAAKAAAAKAAVcQAAAAAAC1oZGxyAAAAAAAAAAB2aWRlAAAA\n",
       "AAAAAAAAAAAAVmlkZW9IYW5kbGVyAAAAAwxtaW5mAAAAFHZtaGQAAAABAAAAAAAAAAAAAAAkZGlu\n",
       "ZgAAABxkcmVmAAAAAAAAAAEAAAAMdXJsIAAAAAEAAALMc3RibAAAALRzdHNkAAAAAAAAAAEAAACk\n",
       "YXZjMQAAAAAAAAABAAAAAAAAAAAAAAAAAAAAAAH0AZAASAAAAEgAAAAAAAAAAQAAAAAAAAAAAAAA\n",
       "AAAAAAAAAAAAAAAAAAAAAAAAAAAAABj//wAAADJhdmNDAWQAFv/hABlnZAAWrNlAgDPn4QAAAwAB\n",
       "AAADABQPFi2WAQAGaOvjyyLAAAAAHHV1aWRraEDyXyRPxbo5pRvPAyPzAAAAAAAAABhzdHRzAAAA\n",
       "AAAAAAEAAAAoAAAEAAAAABRzdHNzAAAAAAAAAAEAAAABAAABAGN0dHMAAAAAAAAAHgAAAAkAAAgA\n",
       "AAAAAQAAFAAAAAABAAAIAAAAAAEAAAAAAAAAAQAABAAAAAABAAAUAAAAAAEAAAgAAAAAAQAAAAAA\n",
       "AAABAAAEAAAAAAEAABQAAAAAAQAACAAAAAABAAAAAAAAAAEAAAQAAAAAAwAACAAAAAABAAAUAAAA\n",
       "AAEAAAgAAAAAAQAAAAAAAAABAAAEAAAAAAEAABQAAAAAAQAACAAAAAABAAAAAAAAAAEAAAQAAAAA\n",
       "AQAAFAAAAAABAAAIAAAAAAEAAAAAAAAAAQAABAAAAAABAAAUAAAAAAEAAAgAAAAAAQAAAAAAAAAB\n",
       "AAAEAAAAABxzdHNjAAAAAAAAAAEAAAABAAAAKAAAAAEAAAC0c3RzegAAAAAAAAAAAAAAKAAAFjgA\n",
       "AAJOAAADMwAAAkoAAAMWAAAB3QAAAhwAAAGZAAAB+gAABDIAAAI5AAAA+QAAAbMAAASXAAAC6wAA\n",
       "AjkAAAG2AAAFGgAAAc0AAAFvAAAA2AAAAisAAAJ8AAABlAAAAtoAAAC1AAAAWAAAAC8AAAE0AAAA\n",
       "OAAAACQAAAAfAAAAiAAAAC0AAAAfAAAAHgAAACkAAAAsAAAAHgAAACAAAAAUc3RjbwAAAAAAAAAB\n",
       "AAAALAAAAGJ1ZHRhAAAAWm1ldGEAAAAAAAAAIWhkbHIAAAAAAAAAAG1kaXJhcHBsAAAAAAAAAAAA\n",
       "AAAALWlsc3QAAAAlqXRvbwAAAB1kYXRhAAAAAQAAAABMYXZmNTYuNDAuMTAx\n",
       "\">\n",
       "  Your browser does not support the video tag.\n",
       "</video>"
      ],
      "text/plain": [
       "<matplotlib.animation.FuncAnimation at 0x7f747a349f50>"
      ]
     },
     "execution_count": 12,
     "metadata": {},
     "output_type": "execute_result"
    }
   ],
   "source": [
    "fig = plt.figure(dpi=100, figsize=(5, 4))\n",
    "plt.scatter(x,y)\n",
    "line, = plt.plot(x,lin(a_guess,b_guess,x))\n",
    "plt.close()\n",
    "\n",
    "def animate(i):\n",
    "    line.set_ydata(lin(a_guess,b_guess,x))\n",
    "    for i in range(10): upd()\n",
    "    return line,\n",
    "\n",
    "ani = animation.FuncAnimation(fig, animate, np.arange(0, 40), interval=100)\n",
    "ani"
   ]
  },
  {
   "cell_type": "code",
   "execution_count": null,
   "metadata": {
    "collapsed": true
   },
   "outputs": [],
   "source": []
  }
 ],
 "metadata": {
  "anaconda-cloud": {},
  "kernelspec": {
   "display_name": "Python [default]",
   "language": "python",
   "name": "python2"
  },
  "language_info": {
   "codemirror_mode": {
    "name": "ipython",
    "version": 2
   },
   "file_extension": ".py",
   "mimetype": "text/x-python",
   "name": "python",
   "nbconvert_exporter": "python",
   "pygments_lexer": "ipython2",
   "version": "2.7.12"
  },
  "nav_menu": {},
  "toc": {
   "navigate_menu": true,
   "number_sections": true,
   "sideBar": true,
   "threshold": 6,
   "toc_cell": true,
   "toc_section_display": "block",
   "toc_window_display": false
  }
 },
 "nbformat": 4,
 "nbformat_minor": 0
}
